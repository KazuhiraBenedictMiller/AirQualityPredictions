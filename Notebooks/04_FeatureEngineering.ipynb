{
 "cells": [
  {
   "cell_type": "markdown",
   "id": "1845f94e-247f-4c3f-a4ff-30926f3a1443",
   "metadata": {
    "tags": []
   },
   "source": [
    "# ⚙️ Feature Engineering."
   ]
  },
  {
   "cell_type": "markdown",
   "id": "7932b632-acc1-48d4-beba-359694146ccf",
   "metadata": {},
   "source": [
    "### Importing Necessary Libraries."
   ]
  },
  {
   "cell_type": "code",
   "execution_count": 1,
   "id": "aed6eb59-2ca4-49bd-a777-ab945eb51075",
   "metadata": {
    "tags": []
   },
   "outputs": [],
   "source": [
    "import json\n",
    "import time\n",
    "\n",
    "import numpy as np\n",
    "import pandas as pd\n",
    "\n",
    "from datetime import datetime\n",
    "\n",
    "import os\n",
    "from dotenv import load_dotenv\n",
    "\n",
    "load_dotenv(\"../.env\")\n",
    "\n",
    "import sys\n",
    "\n",
    "sys.path.append(\"../Scripts/\")\n",
    "sys.path.append(\"../\")\n",
    "\n",
    "import paths\n",
    "import config"
   ]
  },
  {
   "cell_type": "markdown",
   "id": "624df67e-3871-461a-a5fc-58ae6baa6b91",
   "metadata": {},
   "source": [
    "Cities = config.Cities\n",
    "\n",
    "os.listdir(paths.RAW_DATA_DIR)### Let's Import again all our Raw Data Disk and concatenate it in a Gigantic DataFrame."
   ]
  },
  {
   "cell_type": "code",
   "execution_count": 2,
   "id": "797e427c-118a-4be3-a8b6-c54abf4d6ade",
   "metadata": {
    "tags": []
   },
   "outputs": [
    {
     "data": {
      "text/plain": [
       "['Perugia_HistoricalData_01092022_29022024.parquet',\n",
       " '.ipynb_checkpoints',\n",
       " 'Roma_HistoricalData_01092022_29022024.parquet',\n",
       " 'Bologna_HistoricalData_01092022_29022024.parquet',\n",
       " 'Trento_HistoricalData_01092022_29022024.parquet',\n",
       " 'Potenza_HistoricalData_01092022_29022024.parquet',\n",
       " 'Firenze_HistoricalData_01092022_29022024.parquet',\n",
       " 'Ancona_HistoricalData_01092022_29022024.parquet',\n",
       " 'Catanzaro_HistoricalData_01092022_29022024.parquet',\n",
       " 'Cagliari_HistoricalData_01092022_29022024.parquet',\n",
       " 'Venezia_HistoricalData_01092022_29022024.parquet',\n",
       " 'Genova_HistoricalData_01092022_29022024.parquet',\n",
       " 'Milano_HistoricalData_01092022_29022024.parquet',\n",
       " 'Bari_HistoricalData_01092022_29022024.parquet',\n",
       " 'Campobasso_HistoricalData_01092022_29022024.parquet',\n",
       " 'Trieste_HistoricalData_01092022_29022024.parquet',\n",
       " \"L'Aquila_HistoricalData_01092022_29022024.parquet\",\n",
       " 'Palermo_HistoricalData_01092022_29022024.parquet',\n",
       " 'Torino_HistoricalData_01092022_29022024.parquet',\n",
       " 'Aosta_HistoricalData_01092022_29022024.parquet',\n",
       " 'Napoli_HistoricalData_01092022_29022024.parquet']"
      ]
     },
     "execution_count": 2,
     "metadata": {},
     "output_type": "execute_result"
    }
   ],
   "source": [
    "Cities = config.Cities\n",
    "\n",
    "os.listdir(paths.RAW_DATA_DIR)"
   ]
  },
  {
   "cell_type": "code",
   "execution_count": 3,
   "id": "3123bdfc-47b3-4227-a3ed-1e325c72be05",
   "metadata": {
    "tags": []
   },
   "outputs": [
    {
     "name": "stdout",
     "output_type": "stream",
     "text": [
      "Fetching Raw Data from Disk in Raw Data Dir for Perugia\n",
      "Got City ID PG\n",
      "Fetching Raw Data from Disk in Raw Data Dir for Roma\n",
      "Got City ID RM\n",
      "Fetching Raw Data from Disk in Raw Data Dir for Bologna\n",
      "Got City ID BO\n",
      "Fetching Raw Data from Disk in Raw Data Dir for Trento\n",
      "Got City ID TN\n",
      "Fetching Raw Data from Disk in Raw Data Dir for Potenza\n",
      "Got City ID PZ\n",
      "Fetching Raw Data from Disk in Raw Data Dir for Firenze\n",
      "Got City ID FI\n",
      "Fetching Raw Data from Disk in Raw Data Dir for Ancona\n",
      "Got City ID AN\n",
      "Fetching Raw Data from Disk in Raw Data Dir for Catanzaro\n",
      "Got City ID CZ\n",
      "Fetching Raw Data from Disk in Raw Data Dir for Cagliari\n",
      "Got City ID CA\n",
      "Fetching Raw Data from Disk in Raw Data Dir for Venezia\n",
      "Got City ID VE\n",
      "Fetching Raw Data from Disk in Raw Data Dir for Genova\n",
      "Got City ID GE\n",
      "Fetching Raw Data from Disk in Raw Data Dir for Milano\n",
      "Got City ID MI\n",
      "Fetching Raw Data from Disk in Raw Data Dir for Bari\n",
      "Got City ID BA\n",
      "Fetching Raw Data from Disk in Raw Data Dir for Campobasso\n",
      "Got City ID CB\n",
      "Fetching Raw Data from Disk in Raw Data Dir for Trieste\n",
      "Got City ID TS\n",
      "Fetching Raw Data from Disk in Raw Data Dir for L'Aquila\n",
      "Got City ID AQ\n",
      "Fetching Raw Data from Disk in Raw Data Dir for Palermo\n",
      "Got City ID PA\n",
      "Fetching Raw Data from Disk in Raw Data Dir for Torino\n",
      "Got City ID TO\n",
      "Fetching Raw Data from Disk in Raw Data Dir for Aosta\n",
      "Got City ID AO\n",
      "Fetching Raw Data from Disk in Raw Data Dir for Napoli\n",
      "Got City ID NA\n"
     ]
    }
   ],
   "source": [
    "WholeDF = pd.DataFrame()\n",
    "\n",
    "for file in os.listdir(paths.RAW_DATA_DIR):\n",
    "    if file.endswith(\".parquet\"):\n",
    "        #Splitting the FileName for '_' character and then getting the first item in the list as it's going to be the correspective name of the city.\n",
    "        CityName = file.split(\"_\")[0]\n",
    "        print(f'Fetching Raw Data from Disk in Raw Data Dir for {CityName}')\n",
    "        \n",
    "        #Get the City ID for given City from Cities List\n",
    "        CityID = next((x[\"CityID\"] for x in Cities if x[\"CityName\"] == CityName), None)\n",
    "        print(f'Got City ID {CityID}')\n",
    "        \n",
    "        TempCityDF = pd.read_parquet(paths.RAW_DATA_DIR / file)\n",
    "        \n",
    "        #Moving the CityID Column as First\n",
    "        TempCityDF[\"CityID\"] = CityID\n",
    "        CityIDColumn = TempCityDF.pop(\"CityID\")\n",
    "        TempCityDF.insert(0, \"CityID\", CityIDColumn)\n",
    "        \n",
    "        #A Shorter Single-Liner\n",
    "        #TempCityDF.insert(0, \"CityID\", [CityID for x in range(len(TempCityDF))])\n",
    "        \n",
    "        #print(TempCityDF.head())\n",
    "        \n",
    "        WholeDF = pd.concat([WholeDF, TempCityDF])"
   ]
  },
  {
   "cell_type": "code",
   "execution_count": 4,
   "id": "adaa9d54-c691-43a1-b8f0-1fe948408b37",
   "metadata": {
    "tags": []
   },
   "outputs": [
    {
     "data": {
      "text/html": [
       "<div>\n",
       "<style scoped>\n",
       "    .dataframe tbody tr th:only-of-type {\n",
       "        vertical-align: middle;\n",
       "    }\n",
       "\n",
       "    .dataframe tbody tr th {\n",
       "        vertical-align: top;\n",
       "    }\n",
       "\n",
       "    .dataframe thead th {\n",
       "        text-align: right;\n",
       "    }\n",
       "</style>\n",
       "<table border=\"1\" class=\"dataframe\">\n",
       "  <thead>\n",
       "    <tr style=\"text-align: right;\">\n",
       "      <th></th>\n",
       "      <th>CityID</th>\n",
       "      <th>Date_GMT+1_Europe/Berlin</th>\n",
       "      <th>Temperature_2m</th>\n",
       "      <th>Relative_Humidity_2m</th>\n",
       "      <th>Dew_Point_2m</th>\n",
       "      <th>Precipitation</th>\n",
       "      <th>Pressure_msl</th>\n",
       "      <th>Surface_Pressure</th>\n",
       "      <th>Cloud_Cover</th>\n",
       "      <th>Wind_Speed_10m</th>\n",
       "      <th>...</th>\n",
       "      <th>Wind_Wirection_10m</th>\n",
       "      <th>Wind_Direction_100m</th>\n",
       "      <th>Soil_Temperature_0-7cm</th>\n",
       "      <th>Soil_Temperature_7-28cm</th>\n",
       "      <th>Soil_Temperature_28-100cm</th>\n",
       "      <th>Soil_Temperature_100-255cm</th>\n",
       "      <th>Soil_Moisture_0-7cm</th>\n",
       "      <th>Soil_Moisture_7-28cm</th>\n",
       "      <th>Soil_Moisture_28-100cm</th>\n",
       "      <th>EuropeanAQI</th>\n",
       "    </tr>\n",
       "  </thead>\n",
       "  <tbody>\n",
       "    <tr>\n",
       "      <th>0</th>\n",
       "      <td>PG</td>\n",
       "      <td>2022-09-01T00:00</td>\n",
       "      <td>18.8</td>\n",
       "      <td>84</td>\n",
       "      <td>15.9</td>\n",
       "      <td>0.0</td>\n",
       "      <td>1012.6</td>\n",
       "      <td>958.8</td>\n",
       "      <td>77</td>\n",
       "      <td>5.4</td>\n",
       "      <td>...</td>\n",
       "      <td>127</td>\n",
       "      <td>165</td>\n",
       "      <td>21.5</td>\n",
       "      <td>24.0</td>\n",
       "      <td>22.7</td>\n",
       "      <td>20.5</td>\n",
       "      <td>0.254</td>\n",
       "      <td>0.201</td>\n",
       "      <td>0.144</td>\n",
       "      <td>29</td>\n",
       "    </tr>\n",
       "    <tr>\n",
       "      <th>1</th>\n",
       "      <td>PG</td>\n",
       "      <td>2022-09-01T01:00</td>\n",
       "      <td>19.1</td>\n",
       "      <td>83</td>\n",
       "      <td>16.0</td>\n",
       "      <td>0.0</td>\n",
       "      <td>1012.2</td>\n",
       "      <td>958.5</td>\n",
       "      <td>9</td>\n",
       "      <td>3.4</td>\n",
       "      <td>...</td>\n",
       "      <td>32</td>\n",
       "      <td>328</td>\n",
       "      <td>22.9</td>\n",
       "      <td>24.1</td>\n",
       "      <td>22.7</td>\n",
       "      <td>20.5</td>\n",
       "      <td>0.255</td>\n",
       "      <td>0.203</td>\n",
       "      <td>0.145</td>\n",
       "      <td>33</td>\n",
       "    </tr>\n",
       "    <tr>\n",
       "      <th>2</th>\n",
       "      <td>PG</td>\n",
       "      <td>2022-09-01T02:00</td>\n",
       "      <td>18.8</td>\n",
       "      <td>82</td>\n",
       "      <td>15.6</td>\n",
       "      <td>0.0</td>\n",
       "      <td>1011.8</td>\n",
       "      <td>958.0</td>\n",
       "      <td>80</td>\n",
       "      <td>4.2</td>\n",
       "      <td>...</td>\n",
       "      <td>31</td>\n",
       "      <td>29</td>\n",
       "      <td>22.1</td>\n",
       "      <td>24.0</td>\n",
       "      <td>22.7</td>\n",
       "      <td>20.5</td>\n",
       "      <td>0.255</td>\n",
       "      <td>0.203</td>\n",
       "      <td>0.145</td>\n",
       "      <td>33</td>\n",
       "    </tr>\n",
       "    <tr>\n",
       "      <th>3</th>\n",
       "      <td>PG</td>\n",
       "      <td>2022-09-01T03:00</td>\n",
       "      <td>18.2</td>\n",
       "      <td>85</td>\n",
       "      <td>15.6</td>\n",
       "      <td>0.0</td>\n",
       "      <td>1011.8</td>\n",
       "      <td>957.9</td>\n",
       "      <td>53</td>\n",
       "      <td>9.8</td>\n",
       "      <td>...</td>\n",
       "      <td>163</td>\n",
       "      <td>156</td>\n",
       "      <td>21.5</td>\n",
       "      <td>23.8</td>\n",
       "      <td>22.7</td>\n",
       "      <td>20.5</td>\n",
       "      <td>0.255</td>\n",
       "      <td>0.203</td>\n",
       "      <td>0.145</td>\n",
       "      <td>34</td>\n",
       "    </tr>\n",
       "    <tr>\n",
       "      <th>4</th>\n",
       "      <td>PG</td>\n",
       "      <td>2022-09-01T04:00</td>\n",
       "      <td>16.8</td>\n",
       "      <td>97</td>\n",
       "      <td>16.3</td>\n",
       "      <td>7.9</td>\n",
       "      <td>1012.2</td>\n",
       "      <td>958.1</td>\n",
       "      <td>100</td>\n",
       "      <td>1.6</td>\n",
       "      <td>...</td>\n",
       "      <td>27</td>\n",
       "      <td>256</td>\n",
       "      <td>20.7</td>\n",
       "      <td>23.6</td>\n",
       "      <td>22.7</td>\n",
       "      <td>20.5</td>\n",
       "      <td>0.358</td>\n",
       "      <td>0.203</td>\n",
       "      <td>0.145</td>\n",
       "      <td>34</td>\n",
       "    </tr>\n",
       "    <tr>\n",
       "      <th>...</th>\n",
       "      <td>...</td>\n",
       "      <td>...</td>\n",
       "      <td>...</td>\n",
       "      <td>...</td>\n",
       "      <td>...</td>\n",
       "      <td>...</td>\n",
       "      <td>...</td>\n",
       "      <td>...</td>\n",
       "      <td>...</td>\n",
       "      <td>...</td>\n",
       "      <td>...</td>\n",
       "      <td>...</td>\n",
       "      <td>...</td>\n",
       "      <td>...</td>\n",
       "      <td>...</td>\n",
       "      <td>...</td>\n",
       "      <td>...</td>\n",
       "      <td>...</td>\n",
       "      <td>...</td>\n",
       "      <td>...</td>\n",
       "      <td>...</td>\n",
       "    </tr>\n",
       "    <tr>\n",
       "      <th>13123</th>\n",
       "      <td>NA</td>\n",
       "      <td>2024-02-29T19:00</td>\n",
       "      <td>10.5</td>\n",
       "      <td>90</td>\n",
       "      <td>8.9</td>\n",
       "      <td>0.0</td>\n",
       "      <td>1006.2</td>\n",
       "      <td>1003.9</td>\n",
       "      <td>88</td>\n",
       "      <td>5.1</td>\n",
       "      <td>...</td>\n",
       "      <td>315</td>\n",
       "      <td>305</td>\n",
       "      <td>13.7</td>\n",
       "      <td>14.5</td>\n",
       "      <td>13.4</td>\n",
       "      <td>14.4</td>\n",
       "      <td>0.391</td>\n",
       "      <td>0.393</td>\n",
       "      <td>0.357</td>\n",
       "      <td>26</td>\n",
       "    </tr>\n",
       "    <tr>\n",
       "      <th>13124</th>\n",
       "      <td>NA</td>\n",
       "      <td>2024-02-29T20:00</td>\n",
       "      <td>10.4</td>\n",
       "      <td>90</td>\n",
       "      <td>8.8</td>\n",
       "      <td>0.0</td>\n",
       "      <td>1006.0</td>\n",
       "      <td>1003.7</td>\n",
       "      <td>99</td>\n",
       "      <td>4.2</td>\n",
       "      <td>...</td>\n",
       "      <td>340</td>\n",
       "      <td>320</td>\n",
       "      <td>13.0</td>\n",
       "      <td>14.4</td>\n",
       "      <td>13.4</td>\n",
       "      <td>14.4</td>\n",
       "      <td>0.391</td>\n",
       "      <td>0.392</td>\n",
       "      <td>0.358</td>\n",
       "      <td>28</td>\n",
       "    </tr>\n",
       "    <tr>\n",
       "      <th>13125</th>\n",
       "      <td>NA</td>\n",
       "      <td>2024-02-29T21:00</td>\n",
       "      <td>10.2</td>\n",
       "      <td>90</td>\n",
       "      <td>8.7</td>\n",
       "      <td>0.1</td>\n",
       "      <td>1005.8</td>\n",
       "      <td>1003.5</td>\n",
       "      <td>100</td>\n",
       "      <td>4.3</td>\n",
       "      <td>...</td>\n",
       "      <td>336</td>\n",
       "      <td>324</td>\n",
       "      <td>12.6</td>\n",
       "      <td>14.3</td>\n",
       "      <td>13.4</td>\n",
       "      <td>14.4</td>\n",
       "      <td>0.391</td>\n",
       "      <td>0.392</td>\n",
       "      <td>0.358</td>\n",
       "      <td>28</td>\n",
       "    </tr>\n",
       "    <tr>\n",
       "      <th>13126</th>\n",
       "      <td>NA</td>\n",
       "      <td>2024-02-29T22:00</td>\n",
       "      <td>10.5</td>\n",
       "      <td>92</td>\n",
       "      <td>9.3</td>\n",
       "      <td>1.4</td>\n",
       "      <td>1006.3</td>\n",
       "      <td>1004.0</td>\n",
       "      <td>100</td>\n",
       "      <td>6.0</td>\n",
       "      <td>...</td>\n",
       "      <td>115</td>\n",
       "      <td>113</td>\n",
       "      <td>12.3</td>\n",
       "      <td>14.1</td>\n",
       "      <td>13.4</td>\n",
       "      <td>14.4</td>\n",
       "      <td>0.405</td>\n",
       "      <td>0.392</td>\n",
       "      <td>0.358</td>\n",
       "      <td>29</td>\n",
       "    </tr>\n",
       "    <tr>\n",
       "      <th>13127</th>\n",
       "      <td>NA</td>\n",
       "      <td>2024-02-29T23:00</td>\n",
       "      <td>10.5</td>\n",
       "      <td>95</td>\n",
       "      <td>9.7</td>\n",
       "      <td>0.3</td>\n",
       "      <td>1006.0</td>\n",
       "      <td>1003.7</td>\n",
       "      <td>83</td>\n",
       "      <td>7.7</td>\n",
       "      <td>...</td>\n",
       "      <td>118</td>\n",
       "      <td>133</td>\n",
       "      <td>12.0</td>\n",
       "      <td>13.9</td>\n",
       "      <td>13.4</td>\n",
       "      <td>14.4</td>\n",
       "      <td>0.407</td>\n",
       "      <td>0.392</td>\n",
       "      <td>0.358</td>\n",
       "      <td>30</td>\n",
       "    </tr>\n",
       "  </tbody>\n",
       "</table>\n",
       "<p>262560 rows × 21 columns</p>\n",
       "</div>"
      ],
      "text/plain": [
       "      CityID Date_GMT+1_Europe/Berlin  Temperature_2m  Relative_Humidity_2m  \\\n",
       "0         PG         2022-09-01T00:00            18.8                    84   \n",
       "1         PG         2022-09-01T01:00            19.1                    83   \n",
       "2         PG         2022-09-01T02:00            18.8                    82   \n",
       "3         PG         2022-09-01T03:00            18.2                    85   \n",
       "4         PG         2022-09-01T04:00            16.8                    97   \n",
       "...      ...                      ...             ...                   ...   \n",
       "13123     NA         2024-02-29T19:00            10.5                    90   \n",
       "13124     NA         2024-02-29T20:00            10.4                    90   \n",
       "13125     NA         2024-02-29T21:00            10.2                    90   \n",
       "13126     NA         2024-02-29T22:00            10.5                    92   \n",
       "13127     NA         2024-02-29T23:00            10.5                    95   \n",
       "\n",
       "       Dew_Point_2m  Precipitation  Pressure_msl  Surface_Pressure  \\\n",
       "0              15.9            0.0        1012.6             958.8   \n",
       "1              16.0            0.0        1012.2             958.5   \n",
       "2              15.6            0.0        1011.8             958.0   \n",
       "3              15.6            0.0        1011.8             957.9   \n",
       "4              16.3            7.9        1012.2             958.1   \n",
       "...             ...            ...           ...               ...   \n",
       "13123           8.9            0.0        1006.2            1003.9   \n",
       "13124           8.8            0.0        1006.0            1003.7   \n",
       "13125           8.7            0.1        1005.8            1003.5   \n",
       "13126           9.3            1.4        1006.3            1004.0   \n",
       "13127           9.7            0.3        1006.0            1003.7   \n",
       "\n",
       "       Cloud_Cover  Wind_Speed_10m  ...  Wind_Wirection_10m  \\\n",
       "0               77             5.4  ...                 127   \n",
       "1                9             3.4  ...                  32   \n",
       "2               80             4.2  ...                  31   \n",
       "3               53             9.8  ...                 163   \n",
       "4              100             1.6  ...                  27   \n",
       "...            ...             ...  ...                 ...   \n",
       "13123           88             5.1  ...                 315   \n",
       "13124           99             4.2  ...                 340   \n",
       "13125          100             4.3  ...                 336   \n",
       "13126          100             6.0  ...                 115   \n",
       "13127           83             7.7  ...                 118   \n",
       "\n",
       "       Wind_Direction_100m  Soil_Temperature_0-7cm  Soil_Temperature_7-28cm  \\\n",
       "0                      165                    21.5                     24.0   \n",
       "1                      328                    22.9                     24.1   \n",
       "2                       29                    22.1                     24.0   \n",
       "3                      156                    21.5                     23.8   \n",
       "4                      256                    20.7                     23.6   \n",
       "...                    ...                     ...                      ...   \n",
       "13123                  305                    13.7                     14.5   \n",
       "13124                  320                    13.0                     14.4   \n",
       "13125                  324                    12.6                     14.3   \n",
       "13126                  113                    12.3                     14.1   \n",
       "13127                  133                    12.0                     13.9   \n",
       "\n",
       "       Soil_Temperature_28-100cm  Soil_Temperature_100-255cm  \\\n",
       "0                           22.7                        20.5   \n",
       "1                           22.7                        20.5   \n",
       "2                           22.7                        20.5   \n",
       "3                           22.7                        20.5   \n",
       "4                           22.7                        20.5   \n",
       "...                          ...                         ...   \n",
       "13123                       13.4                        14.4   \n",
       "13124                       13.4                        14.4   \n",
       "13125                       13.4                        14.4   \n",
       "13126                       13.4                        14.4   \n",
       "13127                       13.4                        14.4   \n",
       "\n",
       "       Soil_Moisture_0-7cm  Soil_Moisture_7-28cm  Soil_Moisture_28-100cm  \\\n",
       "0                    0.254                 0.201                   0.144   \n",
       "1                    0.255                 0.203                   0.145   \n",
       "2                    0.255                 0.203                   0.145   \n",
       "3                    0.255                 0.203                   0.145   \n",
       "4                    0.358                 0.203                   0.145   \n",
       "...                    ...                   ...                     ...   \n",
       "13123                0.391                 0.393                   0.357   \n",
       "13124                0.391                 0.392                   0.358   \n",
       "13125                0.391                 0.392                   0.358   \n",
       "13126                0.405                 0.392                   0.358   \n",
       "13127                0.407                 0.392                   0.358   \n",
       "\n",
       "       EuropeanAQI  \n",
       "0               29  \n",
       "1               33  \n",
       "2               33  \n",
       "3               34  \n",
       "4               34  \n",
       "...            ...  \n",
       "13123           26  \n",
       "13124           28  \n",
       "13125           28  \n",
       "13126           29  \n",
       "13127           30  \n",
       "\n",
       "[262560 rows x 21 columns]"
      ]
     },
     "execution_count": 4,
     "metadata": {},
     "output_type": "execute_result"
    }
   ],
   "source": [
    "WholeDF"
   ]
  },
  {
   "cell_type": "markdown",
   "id": "ff8a5294-84b4-44f2-b013-56add6984b2e",
   "metadata": {
    "tags": []
   },
   "source": [
    "### As we want out Raw Data Intact, but only the Date Transformed (Disaster Recovery Pre-Transformations), let's just Tweak the Date a bit and Dump to Disk."
   ]
  },
  {
   "cell_type": "code",
   "execution_count": 5,
   "id": "0bcf25e2-176a-42f5-8be4-6e0ae2817fb7",
   "metadata": {
    "tags": []
   },
   "outputs": [],
   "source": [
    "RawDF = WholeDF.copy()\n",
    "\n",
    "RawDF[\"Date\"] = RawDF[\"Date_GMT+1_Europe/Berlin\"].apply(lambda x: datetime.strptime(x.replace(\"T\", \" \"), \"%Y-%m-%d %H:%M\"))\n",
    "RawDF.drop(\"Date_GMT+1_Europe/Berlin\", axis = 1, inplace = True)\n",
    "\n",
    "#Let's Dump it to Disk.\n",
    "\n",
    "RawDF.to_parquet(paths.TRANSFORMED_DATA_DIR / \"RAW_All_Cities_HistoricalData_01092022_29022024.parquet\")"
   ]
  },
  {
   "cell_type": "markdown",
   "id": "34e51255-4276-4715-9bb1-0cca7f7bf6e3",
   "metadata": {
    "tags": []
   },
   "source": [
    "### Now, Let's write (Manually) a list that contains all the City IDs and Correspective Sub-Region of Italy.\n",
    "### We'll use this later in our modeling, as factor such as Industrial Activity and Cultivations Status might be important indicator of Air Quality.\n",
    "### We need Clean Air to cultivate good veggies and Air Quality plunges during period of intense industrial activities."
   ]
  },
  {
   "cell_type": "code",
   "execution_count": 6,
   "id": "12f71d31-4748-4ea0-938f-1cb6d67e42fb",
   "metadata": {
    "tags": []
   },
   "outputs": [],
   "source": [
    "CitiesSubRegion = [[\"AO\", \"North\"],\n",
    "                   [\"TN\", \"North\"],\n",
    "                   [\"TO\", \"North\"],\n",
    "                   [\"MI\", \"North\"],\n",
    "                   [\"TS\", \"North\"],\n",
    "                   [\"VE\", \"North\"],\n",
    "                   [\"GE\", \"North\"],\n",
    "                   [\"FI\", \"Center\"],\n",
    "                   [\"AN\", \"Center\"],\n",
    "                   [\"BO\", \"Center\"],\n",
    "                   [\"PG\", \"Center\"],\n",
    "                   [\"RM\", \"Center\"],\n",
    "                   [\"CA\", \"Center\"],\n",
    "                   [\"NA\", \"South\"],\n",
    "                   [\"AQ\", \"South\"],\n",
    "                   [\"CB\", \"South\"],\n",
    "                   [\"BA\", \"South\"],\n",
    "                   [\"PZ\", \"South\"],\n",
    "                   [\"CZ\", \"South\"],\n",
    "                   [\"PA\", \"South\"]\n",
    "                  ]"
   ]
  },
  {
   "cell_type": "code",
   "execution_count": 7,
   "id": "69127e56-0bc5-407d-b312-d10d91978739",
   "metadata": {
    "tags": []
   },
   "outputs": [
    {
     "data": {
      "text/plain": [
       "0        Center\n",
       "1        Center\n",
       "2        Center\n",
       "3        Center\n",
       "4        Center\n",
       "          ...  \n",
       "13123     South\n",
       "13124     South\n",
       "13125     South\n",
       "13126     South\n",
       "13127     South\n",
       "Name: CityID, Length: 262560, dtype: object"
      ]
     },
     "execution_count": 7,
     "metadata": {},
     "output_type": "execute_result"
    }
   ],
   "source": [
    "WholeDF[\"CityID\"].apply(lambda x: next((z[1] for z in CitiesSubRegion if x == z[0]), None))"
   ]
  },
  {
   "cell_type": "code",
   "execution_count": 8,
   "id": "593834dc-7c9f-4a2d-91b4-b7974ae212d5",
   "metadata": {
    "tags": []
   },
   "outputs": [],
   "source": [
    "WholeDF[\"SubRegion\"] = WholeDF[\"CityID\"].apply(lambda x: next((z[1] for z in CitiesSubRegion if x == z[0]), None))"
   ]
  },
  {
   "cell_type": "markdown",
   "id": "eb077df8-8ea7-4491-9032-306305892ecd",
   "metadata": {
    "tags": []
   },
   "source": [
    "### Next we can Safely drop our CityID column as it's no longer of use to us."
   ]
  },
  {
   "cell_type": "code",
   "execution_count": 9,
   "id": "4cba9e25-2a75-4fc1-b3ee-99092a30fcb5",
   "metadata": {
    "tags": []
   },
   "outputs": [],
   "source": [
    "WholeDF.drop(\"CityID\", axis = 1, inplace = True)"
   ]
  },
  {
   "cell_type": "markdown",
   "id": "0a2367aa-cc23-45db-ac7c-1793ca4846ba",
   "metadata": {
    "tags": []
   },
   "source": [
    "### Now we need to work the Date Column: it's of no use of our model, but what we can do is to put the Date into Context.\n",
    "### An example of that would be to categorize the season by month, or week of year, or month of year, etc.\n",
    "### I decided to use Seasons even if they are not the most performing option.\n",
    "### During Winters, industrial activities in the North raises, so it can be another good indicator, especially if combined with the previously created."
   ]
  },
  {
   "cell_type": "code",
   "execution_count": 10,
   "id": "412b2062-928b-4db9-876f-3eb7c0316012",
   "metadata": {
    "tags": []
   },
   "outputs": [
    {
     "data": {
      "text/plain": [
       "str"
      ]
     },
     "execution_count": 10,
     "metadata": {},
     "output_type": "execute_result"
    }
   ],
   "source": [
    "#let's check the datatype of our Datetimes.\n",
    "type(WholeDF[\"Date_GMT+1_Europe/Berlin\"][0].values[0])"
   ]
  },
  {
   "cell_type": "code",
   "execution_count": 11,
   "id": "c4af404f-6494-4b12-b55d-7f8a18b29c10",
   "metadata": {
    "tags": []
   },
   "outputs": [
    {
     "name": "stdout",
     "output_type": "stream",
     "text": [
      "<class 'pandas.core.frame.DataFrame'>\n",
      "Index: 262560 entries, 0 to 13127\n",
      "Data columns (total 21 columns):\n",
      " #   Column                      Non-Null Count   Dtype  \n",
      "---  ------                      --------------   -----  \n",
      " 0   Date_GMT+1_Europe/Berlin    262560 non-null  object \n",
      " 1   Temperature_2m              262560 non-null  float64\n",
      " 2   Relative_Humidity_2m        262560 non-null  int64  \n",
      " 3   Dew_Point_2m                262560 non-null  float64\n",
      " 4   Precipitation               262560 non-null  float64\n",
      " 5   Pressure_msl                262560 non-null  float64\n",
      " 6   Surface_Pressure            262560 non-null  float64\n",
      " 7   Cloud_Cover                 262560 non-null  int64  \n",
      " 8   Wind_Speed_10m              262560 non-null  float64\n",
      " 9   Wind_Speed_100m             262560 non-null  float64\n",
      " 10  Wind_Wirection_10m          262560 non-null  int64  \n",
      " 11  Wind_Direction_100m         262560 non-null  int64  \n",
      " 12  Soil_Temperature_0-7cm      262560 non-null  float64\n",
      " 13  Soil_Temperature_7-28cm     262560 non-null  float64\n",
      " 14  Soil_Temperature_28-100cm   262560 non-null  float64\n",
      " 15  Soil_Temperature_100-255cm  262560 non-null  float64\n",
      " 16  Soil_Moisture_0-7cm         262560 non-null  float64\n",
      " 17  Soil_Moisture_7-28cm        262560 non-null  float64\n",
      " 18  Soil_Moisture_28-100cm      262560 non-null  float64\n",
      " 19  EuropeanAQI                 262560 non-null  int64  \n",
      " 20  SubRegion                   262560 non-null  object \n",
      "dtypes: float64(14), int64(5), object(2)\n",
      "memory usage: 52.1+ MB\n"
     ]
    }
   ],
   "source": [
    "WholeDF.info()"
   ]
  },
  {
   "cell_type": "code",
   "execution_count": null,
   "id": "4c906ec4-5ac1-466c-9787-58d248019fb0",
   "metadata": {
    "tags": []
   },
   "outputs": [],
   "source": [
    "WholeDF[\"Date\"] = WholeDF[\"Date_GMT+1_Europe/Berlin\"].apply(lambda x: datetime.strptime(x.replace(\"T\", \" \"), \"%Y-%m-%d %H:%M\"))"
   ]
  },
  {
   "cell_type": "code",
   "execution_count": null,
   "id": "4861073e-7925-46ef-b0be-7b18045f2927",
   "metadata": {
    "tags": []
   },
   "outputs": [],
   "source": [
    "#We Perfectly know that all our Data is in GMT+1 so, let's just drop our Older Column.\n",
    "WholeDF.drop(\"Date_GMT+1_Europe/Berlin\", axis = 1, inplace = True)"
   ]
  },
  {
   "cell_type": "markdown",
   "id": "b89c73ea-c17a-409a-a997-ecd5817f9a50",
   "metadata": {},
   "source": [
    "### Now, let's add a column for the Season"
   ]
  },
  {
   "cell_type": "code",
   "execution_count": null,
   "id": "21b34508-15a8-4f56-b808-e77ec29ff30b",
   "metadata": {
    "tags": []
   },
   "outputs": [],
   "source": [
    "WholeDF[\"Season\"] = WholeDF[\"Date\"].apply(lambda x: \"Winter\" if ((x.month >= 12 and x.day >= 21) or (x.month < 3) or (x.month == 3 and x.day <= 20)) \n",
    "                                    else \"Spring\" if ((x.month >= 3 and x.day >= 21) or (x.month < 6) or (x.month == 6 and x.day <= 20))  \n",
    "                                    else \"Summer\" if ((x.month >= 6 and x.day >= 21) or (x.month < 9) or (x.month == 9 and x.day <= 22)) \n",
    "                                    else \"Autumn\" if ((x.month >= 9 and x.day >= 23) or (x.month < 12) or (x.month == 12 and x.day <= 20)) \n",
    "                                    else \"NoSeasonFound\")\n",
    "\n",
    "#Quick Check\n",
    "if \"NoSeasonFound\" in list(WholeDF):\n",
    "    raise DataIntegrityError(\"There's been an Error in Categorizing Data in Seasons!!\")\n",
    "    \n",
    "else:\n",
    "    print(\"Check Passed, Datetimes correctly Transformed in Seasons!\")"
   ]
  },
  {
   "cell_type": "markdown",
   "id": "6c823027-f1a1-4630-8c25-056ff4bb67d3",
   "metadata": {
    "tags": []
   },
   "source": [
    "### Next Up, we want to create a Column for hours of the Day.\n",
    "### During periods of intense traffic, especially when the Industrial Production starts to slow down, the chances of an higher AQI increase."
   ]
  },
  {
   "cell_type": "code",
   "execution_count": null,
   "id": "12cd54b6-2699-411f-acc9-a6cfcc37f6f0",
   "metadata": {
    "tags": []
   },
   "outputs": [],
   "source": [
    "WholeDF[\"Hour\"] = WholeDF[\"Date\"].apply(lambda x: x.hour)"
   ]
  },
  {
   "cell_type": "markdown",
   "id": "f875e344-1f76-4e1b-b096-2ce256302bc1",
   "metadata": {
    "tags": []
   },
   "source": [
    "### Now, we can drop our date Column, as it's going to be irrelevant for our Modeling"
   ]
  },
  {
   "cell_type": "code",
   "execution_count": null,
   "id": "51c838bc-09e2-468e-bddc-3a71d9df87cc",
   "metadata": {
    "tags": []
   },
   "outputs": [],
   "source": [
    "WholeDF.drop(\"Date\", axis = 1, inplace = True)"
   ]
  },
  {
   "cell_type": "markdown",
   "id": "2c46dea0-2eed-45c3-971f-e8bc438e9370",
   "metadata": {
    "tags": []
   },
   "source": [
    "### We could now go ahead and keep enginnering features for our DataSet, but I think that since I do not have enough domain knowledge on Climate, it's better to stop here."
   ]
  },
  {
   "cell_type": "markdown",
   "id": "c0a24821-3139-4562-ae39-13849f585998",
   "metadata": {
    "tags": []
   },
   "source": [
    "### Let's Generate Dummy Variables."
   ]
  },
  {
   "cell_type": "code",
   "execution_count": null,
   "id": "de806c12-9375-4a81-b241-ab521012421b",
   "metadata": {},
   "outputs": [],
   "source": [
    "SeasonDummies = pd.get_dummies(WholeDF[\"Season\"], prefix = \"IsSeason\", dtype = int)\n",
    "HourDummies = pd.get_dummies(WholeDF[\"Hour\"], prefix = \"IsHour\",dtype = int)\n",
    "\n",
    "#Let's Concat to the DataFrame and get rid of the original columns.\n",
    "#Note that can also be done by inserting the df as parameter in pd.get_dummies, check the docs.\n",
    "\n",
    "WholeDF = pd.concat([WholeDF, SeasonDummies], axis = 1)\n",
    "WholeDF = pd.concat([WholeDF, HourDummies], axis = 1)\n",
    "\n",
    "WholeDF.drop([\"Season\", \"Hour\"], axis = 1, inplace = True)"
   ]
  },
  {
   "cell_type": "code",
   "execution_count": null,
   "id": "7a7af127-d388-421c-8659-c442414eef61",
   "metadata": {},
   "outputs": [],
   "source": [
    "WholeDF.columns"
   ]
  },
  {
   "cell_type": "code",
   "execution_count": null,
   "id": "c25bb6c2-759e-4c74-8ffe-f7d5ec9fcccc",
   "metadata": {},
   "outputs": [],
   "source": [
    "WholeDF.head()"
   ]
  },
  {
   "cell_type": "code",
   "execution_count": null,
   "id": "9291a624-d9a3-48bf-8813-7fa5e928eed4",
   "metadata": {
    "tags": []
   },
   "outputs": [],
   "source": [
    "### Let's Dump to Disk the Transformed Data.\n",
    "WholeDF.to_parquet(paths.TRANSFORMED_DATA_DIR / \"TRANSFORMED_All_Cities_HistoricalData_01092022_29022024.parquet\")"
   ]
  }
 ],
 "metadata": {
  "kernelspec": {
   "display_name": "Python 3 (ipykernel)",
   "language": "python",
   "name": "python3"
  },
  "language_info": {
   "codemirror_mode": {
    "name": "ipython",
    "version": 3
   },
   "file_extension": ".py",
   "mimetype": "text/x-python",
   "name": "python",
   "nbconvert_exporter": "python",
   "pygments_lexer": "ipython3",
   "version": "3.10.12"
  }
 },
 "nbformat": 4,
 "nbformat_minor": 5
}
