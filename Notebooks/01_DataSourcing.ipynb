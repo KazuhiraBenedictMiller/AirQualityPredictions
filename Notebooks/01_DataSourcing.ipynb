{
 "cells": [
  {
   "cell_type": "markdown",
   "id": "2a76589b-8604-4f83-a243-b8e2474c9085",
   "metadata": {},
   "source": [
    "# In this Notebook, we'll Source our Data from OpenAQ and OpenMeteo APIs and see how the data is formatted."
   ]
  },
  {
   "cell_type": "markdown",
   "id": "5fd303e1-cd3a-40e5-ba81-fc6fd38e927c",
   "metadata": {},
   "source": [
    "# Importing Necessary Modules"
   ]
  },
  {
   "cell_type": "code",
   "execution_count": 23,
   "id": "bfbb8dd4-e8d5-470c-9281-7bda3847c06b",
   "metadata": {
    "tags": []
   },
   "outputs": [],
   "source": [
    "import requests\n",
    "import wget\n",
    "import gzip"
   ]
  },
  {
   "cell_type": "markdown",
   "id": "52e7ae94-6d85-4030-b661-fc785aea417a",
   "metadata": {},
   "source": [
    "# In order to obtain all the Raw Data we want, we need to fetch both hourly and historical data for Weather (OpenMeteo) and Air Quality (OpenAQ)."
   ]
  },
  {
   "cell_type": "markdown",
   "id": "b2ef1c89-515c-4f4e-91ec-1775c8374e9e",
   "metadata": {},
   "source": [
    "# Open Meteo - Fetch Historical Data"
   ]
  },
  {
   "cell_type": "code",
   "execution_count": 24,
   "id": "dd279de7-2109-40dc-a946-4824e08843d0",
   "metadata": {
    "tags": []
   },
   "outputs": [],
   "source": [
    "RAW_DATA_PATH = \"../Data/Raw/\""
   ]
  },
  {
   "cell_type": "code",
   "execution_count": 25,
   "id": "7f74d3a6-1fd9-43ce-8258-dc05cea032ee",
   "metadata": {
    "tags": []
   },
   "outputs": [
    {
     "name": "stdout",
     "output_type": "stream",
     "text": [
      "100% [..............................................................] 797 / 797"
     ]
    }
   ],
   "source": [
    "RawDataFilePath = wget.download(\"https://openaq-data-archive.s3.amazonaws.com/records/csv.gz/locationid=2178/year=2022/month=05/location-2178-20220503.csv.gz\", out = RAW_DATA_PATH)"
   ]
  },
  {
   "cell_type": "code",
   "execution_count": 26,
   "id": "b388769b-81bf-4f7a-b684-6d10e97b05cf",
   "metadata": {
    "tags": []
   },
   "outputs": [
    {
     "name": "stdout",
     "output_type": "stream",
     "text": [
      "../Data/Raw//location-2178-20220503.csv.gz\n",
      "/location-2178-20220503.csv\n"
     ]
    }
   ],
   "source": [
    "FileName = RawDataFilePath.removeprefix(RAW_DATA_PATH).removesuffix(\".gz\")\n",
    "\n",
    "print(RawDataFilePath)\n",
    "print(FileName)"
   ]
  },
  {
   "cell_type": "code",
   "execution_count": 28,
   "id": "93c0a07b-fdc8-4d5a-b159-f206afeb1ee9",
   "metadata": {
    "tags": []
   },
   "outputs": [],
   "source": [
    "with gzip.open(RawDataFilePath, 'rt', newline='') as csv_file:\n",
    "    csv_data = csv_file.read()\n",
    "    \n",
    "    with open(RAW_DATA_PATH + FileName, 'wt') as out_file:\n",
    "         out_file.write(csv_data)"
   ]
  },
  {
   "cell_type": "code",
   "execution_count": null,
   "id": "c4611589-dbd2-4663-a85f-e03651384604",
   "metadata": {},
   "outputs": [],
   "source": []
  }
 ],
 "metadata": {
  "kernelspec": {
   "display_name": "Python 3 (ipykernel)",
   "language": "python",
   "name": "python3"
  },
  "language_info": {
   "codemirror_mode": {
    "name": "ipython",
    "version": 3
   },
   "file_extension": ".py",
   "mimetype": "text/x-python",
   "name": "python",
   "nbconvert_exporter": "python",
   "pygments_lexer": "ipython3",
   "version": "3.10.12"
  }
 },
 "nbformat": 4,
 "nbformat_minor": 5
}
